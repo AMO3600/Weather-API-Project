{
 "cells": [
  {
   "cell_type": "code",
   "execution_count": 8,
   "id": "61ca3385",
   "metadata": {},
   "outputs": [],
   "source": [
    "import requests\n",
    "\n",
    "from pprint import pprint\n",
    "from scipy import stats\n",
    "import json\n",
    "import pandas as pd \n",
    "import numpy as np\n",
    "import seaborn as sns\n",
    "import matplotlib.pyplot as plt\n"
   ]
  },
  {
   "cell_type": "code",
   "execution_count": 6,
   "id": "bc6b8d61",
   "metadata": {},
   "outputs": [
    {
     "name": "stdout",
     "output_type": "stream",
     "text": [
      "Defaulting to user installation because normal site-packages is not writeable\n",
      "Collecting citipy\n",
      "  Downloading citipy-0.0.5.tar.gz (557 kB)\n",
      "Collecting kdtree>=0.12\n",
      "  Downloading kdtree-0.16-py2.py3-none-any.whl (7.7 kB)\n",
      "Building wheels for collected packages: citipy\n",
      "  Building wheel for citipy (setup.py): started\n",
      "  Building wheel for citipy (setup.py): finished with status 'done'\n",
      "  Created wheel for citipy: filename=citipy-0.0.5-py3-none-any.whl size=559701 sha256=1047b8e7a9f42ff2311e4755c7e54066d294fce318c9c49862b07fe5d692c0d8\n",
      "  Stored in directory: c:\\users\\abdirahmanmohamedoma\\appdata\\local\\pip\\cache\\wheels\\d9\\dd\\68\\8cc0be16282b0fcae5acb7280b47d31952f203c401923a8c1e\n",
      "Successfully built citipy\n",
      "Installing collected packages: kdtree, citipy\n",
      "Successfully installed citipy-0.0.5 kdtree-0.16\n"
     ]
    }
   ],
   "source": [
    "!pip install citipy\n",
    "from citipy import citipy"
   ]
  },
  {
   "cell_type": "code",
   "execution_count": 22,
   "id": "8560c094",
   "metadata": {},
   "outputs": [],
   "source": [
    "#AMALFI\n",
    "urlAD='https://archive-api.open-meteo.com/v1/era5?latitude=40.6340&longitude=14.6027&start_date=2017-05-24&end_date=2022-06-03&daily=temperature_2m_max,sunset,precipitation_sum,windspeed_10m_max&timezone=auto'"
   ]
  },
  {
   "cell_type": "code",
   "execution_count": 23,
   "id": "f5eb1888",
   "metadata": {},
   "outputs": [
    {
     "data": {
      "text/plain": [
       "200"
      ]
     },
     "execution_count": 23,
     "metadata": {},
     "output_type": "execute_result"
    }
   ],
   "source": [
    "response=requests.get(urlAD)\n",
    "response.status_code"
   ]
  },
  {
   "cell_type": "code",
   "execution_count": 37,
   "id": "66f6e67a",
   "metadata": {},
   "outputs": [
    {
     "ename": "KeyError",
     "evalue": "'daily'",
     "output_type": "error",
     "traceback": [
      "\u001b[1;31m---------------------------------------------------------------------------\u001b[0m",
      "\u001b[1;31mKeyError\u001b[0m                                  Traceback (most recent call last)",
      "Input \u001b[1;32mIn [37]\u001b[0m, in \u001b[0;36m<cell line: 2>\u001b[1;34m()\u001b[0m\n\u001b[0;32m      1\u001b[0m data\u001b[38;5;241m=\u001b[39mresponse\u001b[38;5;241m.\u001b[39mjson()\n\u001b[1;32m----> 2\u001b[0m data1\u001b[38;5;241m=\u001b[39m\u001b[43mdata\u001b[49m\u001b[43m[\u001b[49m\u001b[38;5;124;43m'\u001b[39;49m\u001b[38;5;124;43mdaily\u001b[39;49m\u001b[38;5;124;43m'\u001b[39;49m\u001b[43m]\u001b[49m\n",
      "\u001b[1;31mKeyError\u001b[0m: 'daily'"
     ]
    }
   ],
   "source": [
    "data=response.json()\n",
    "data1=data['daily']"
   ]
  },
  {
   "cell_type": "code",
   "execution_count": 60,
   "id": "a1b058b4",
   "metadata": {},
   "outputs": [],
   "source": [
    "amalfidaily=pd.DataFrame(data1)\n",
    "amalfidaily.to_csv('amalfidaily.csv')\n"
   ]
  },
  {
   "cell_type": "code",
   "execution_count": 26,
   "id": "9f45db4a",
   "metadata": {},
   "outputs": [
    {
     "data": {
      "text/html": [
       "<div>\n",
       "<style scoped>\n",
       "    .dataframe tbody tr th:only-of-type {\n",
       "        vertical-align: middle;\n",
       "    }\n",
       "\n",
       "    .dataframe tbody tr th {\n",
       "        vertical-align: top;\n",
       "    }\n",
       "\n",
       "    .dataframe thead th {\n",
       "        text-align: right;\n",
       "    }\n",
       "</style>\n",
       "<table border=\"1\" class=\"dataframe\">\n",
       "  <thead>\n",
       "    <tr style=\"text-align: right;\">\n",
       "      <th></th>\n",
       "      <th>latitude</th>\n",
       "      <th>longitude</th>\n",
       "      <th>generationtime_ms</th>\n",
       "      <th>utc_offset_seconds</th>\n",
       "      <th>timezone</th>\n",
       "      <th>timezone_abbreviation</th>\n",
       "      <th>elevation</th>\n",
       "      <th>daily_units</th>\n",
       "      <th>daily</th>\n",
       "    </tr>\n",
       "  </thead>\n",
       "  <tbody>\n",
       "    <tr>\n",
       "      <th>time</th>\n",
       "      <td>41.0</td>\n",
       "      <td>14.25</td>\n",
       "      <td>2.974033</td>\n",
       "      <td>3600</td>\n",
       "      <td>Europe/Rome</td>\n",
       "      <td>CET</td>\n",
       "      <td>126.0</td>\n",
       "      <td>iso8601</td>\n",
       "      <td>[2017-05-24, 2017-05-25, 2017-05-26, 2017-05-2...</td>\n",
       "    </tr>\n",
       "    <tr>\n",
       "      <th>temperature_2m_max</th>\n",
       "      <td>41.0</td>\n",
       "      <td>14.25</td>\n",
       "      <td>2.974033</td>\n",
       "      <td>3600</td>\n",
       "      <td>Europe/Rome</td>\n",
       "      <td>CET</td>\n",
       "      <td>126.0</td>\n",
       "      <td>°C</td>\n",
       "      <td>[24.2, 22.2, 23.4, 24.0, 25.8, 25.6, 24.4, 24....</td>\n",
       "    </tr>\n",
       "    <tr>\n",
       "      <th>sunset</th>\n",
       "      <td>41.0</td>\n",
       "      <td>14.25</td>\n",
       "      <td>2.974033</td>\n",
       "      <td>3600</td>\n",
       "      <td>Europe/Rome</td>\n",
       "      <td>CET</td>\n",
       "      <td>126.0</td>\n",
       "      <td>iso8601</td>\n",
       "      <td>[2017-05-24T19:21, 2017-05-25T19:22, 2017-05-2...</td>\n",
       "    </tr>\n",
       "    <tr>\n",
       "      <th>precipitation_sum</th>\n",
       "      <td>41.0</td>\n",
       "      <td>14.25</td>\n",
       "      <td>2.974033</td>\n",
       "      <td>3600</td>\n",
       "      <td>Europe/Rome</td>\n",
       "      <td>CET</td>\n",
       "      <td>126.0</td>\n",
       "      <td>mm</td>\n",
       "      <td>[0.8, 6.5, 0.0, 0.0, 0.0, 0.0, 0.0, 0.0, 0.0, ...</td>\n",
       "    </tr>\n",
       "    <tr>\n",
       "      <th>windspeed_10m_max</th>\n",
       "      <td>41.0</td>\n",
       "      <td>14.25</td>\n",
       "      <td>2.974033</td>\n",
       "      <td>3600</td>\n",
       "      <td>Europe/Rome</td>\n",
       "      <td>CET</td>\n",
       "      <td>126.0</td>\n",
       "      <td>km/h</td>\n",
       "      <td>[13.1, 13.2, 14.3, 12.7, 11.3, 15.8, 13.4, 12....</td>\n",
       "    </tr>\n",
       "  </tbody>\n",
       "</table>\n",
       "</div>"
      ],
      "text/plain": [
       "                    latitude  longitude  generationtime_ms  \\\n",
       "time                    41.0      14.25           2.974033   \n",
       "temperature_2m_max      41.0      14.25           2.974033   \n",
       "sunset                  41.0      14.25           2.974033   \n",
       "precipitation_sum       41.0      14.25           2.974033   \n",
       "windspeed_10m_max       41.0      14.25           2.974033   \n",
       "\n",
       "                    utc_offset_seconds     timezone timezone_abbreviation  \\\n",
       "time                              3600  Europe/Rome                   CET   \n",
       "temperature_2m_max                3600  Europe/Rome                   CET   \n",
       "sunset                            3600  Europe/Rome                   CET   \n",
       "precipitation_sum                 3600  Europe/Rome                   CET   \n",
       "windspeed_10m_max                 3600  Europe/Rome                   CET   \n",
       "\n",
       "                    elevation daily_units  \\\n",
       "time                    126.0     iso8601   \n",
       "temperature_2m_max      126.0          °C   \n",
       "sunset                  126.0     iso8601   \n",
       "precipitation_sum       126.0          mm   \n",
       "windspeed_10m_max       126.0        km/h   \n",
       "\n",
       "                                                                daily  \n",
       "time                [2017-05-24, 2017-05-25, 2017-05-26, 2017-05-2...  \n",
       "temperature_2m_max  [24.2, 22.2, 23.4, 24.0, 25.8, 25.6, 24.4, 24....  \n",
       "sunset              [2017-05-24T19:21, 2017-05-25T19:22, 2017-05-2...  \n",
       "precipitation_sum   [0.8, 6.5, 0.0, 0.0, 0.0, 0.0, 0.0, 0.0, 0.0, ...  \n",
       "windspeed_10m_max   [13.1, 13.2, 14.3, 12.7, 11.3, 15.8, 13.4, 12....  "
      ]
     },
     "execution_count": 26,
     "metadata": {},
     "output_type": "execute_result"
    }
   ],
   "source": []
  },
  {
   "cell_type": "code",
   "execution_count": 31,
   "id": "1b03df3f",
   "metadata": {},
   "outputs": [],
   "source": [
    "urlAH='https://archive-api.open-meteo.com/v1/era5?latitude=40.6340&longitude=14.6027&start_date=2017-05-24&end_date=2022-06-03&hourly=relativehumidity_2m,cloudcover&timezone=auto'"
   ]
  },
  {
   "cell_type": "code",
   "execution_count": 44,
   "id": "0fa90df3",
   "metadata": {},
   "outputs": [
    {
     "data": {
      "text/plain": [
       "200"
      ]
     },
     "execution_count": 44,
     "metadata": {},
     "output_type": "execute_result"
    }
   ],
   "source": [
    "response1=requests.get(urlAH)\n",
    "response1.status_code"
   ]
  },
  {
   "cell_type": "code",
   "execution_count": 45,
   "id": "994df481",
   "metadata": {},
   "outputs": [],
   "source": [
    "d2=response1.json()\n",
    "data2=d2['hourly']"
   ]
  },
  {
   "cell_type": "code",
   "execution_count": 61,
   "id": "14ddd7dc",
   "metadata": {},
   "outputs": [],
   "source": [
    "amalfiHour=pd.DataFrame(data2)\n",
    "amalfiHour.to_csv('amalfihourly.csv')"
   ]
  },
  {
   "cell_type": "code",
   "execution_count": 43,
   "id": "8606172b",
   "metadata": {},
   "outputs": [],
   "source": [
    "#CUBA\n",
    "urlcd='https://archive-api.open-meteo.com/v1/era5?latitude=21.5218&longitude=77.7812&start_date=2017-05-24&end_date=2022-06-03&daily=temperature_2m_max,sunset,precipitation_sum,windspeed_10m_max&timezone=auto'"
   ]
  },
  {
   "cell_type": "code",
   "execution_count": 48,
   "id": "72b73f1d",
   "metadata": {},
   "outputs": [
    {
     "data": {
      "text/plain": [
       "200"
      ]
     },
     "execution_count": 48,
     "metadata": {},
     "output_type": "execute_result"
    }
   ],
   "source": [
    "response2=requests.get(urlcd)\n",
    "response2.status_code"
   ]
  },
  {
   "cell_type": "code",
   "execution_count": 49,
   "id": "eeab5c0c",
   "metadata": {},
   "outputs": [],
   "source": [
    "d3=response2.json()\n",
    "data3=d3['daily']"
   ]
  },
  {
   "cell_type": "code",
   "execution_count": 62,
   "id": "451a160e",
   "metadata": {},
   "outputs": [],
   "source": [
    "cubadaily=pd.DataFrame(data3)\n",
    "cubadaily.to_csv('cubadaily.csv')"
   ]
  },
  {
   "cell_type": "code",
   "execution_count": 52,
   "id": "6f625fc3",
   "metadata": {},
   "outputs": [],
   "source": [
    "urlch='https://archive-api.open-meteo.com/v1/era5?latitude=21.5218&longitude=77.7812&start_date=2017-05-24&end_date=2022-06-03&hourly=relativehumidity_2m,cloudcover&timezone=auto'"
   ]
  },
  {
   "cell_type": "code",
   "execution_count": 56,
   "id": "0ed2a3ac",
   "metadata": {},
   "outputs": [
    {
     "data": {
      "text/plain": [
       "200"
      ]
     },
     "execution_count": 56,
     "metadata": {},
     "output_type": "execute_result"
    }
   ],
   "source": [
    "response3=requests.get(urlch)\n",
    "response3.status_code"
   ]
  },
  {
   "cell_type": "code",
   "execution_count": 57,
   "id": "18e79c71",
   "metadata": {},
   "outputs": [],
   "source": [
    "d4=response3.json()\n",
    "data4=d4['hourly']"
   ]
  },
  {
   "cell_type": "code",
   "execution_count": 63,
   "id": "050226ec",
   "metadata": {},
   "outputs": [],
   "source": [
    "cubahourly=pd.DataFrame(data4)\n",
    "cubahourly.to_csv('cubahourly.csv')"
   ]
  },
  {
   "cell_type": "code",
   "execution_count": null,
   "id": "4bdc5570",
   "metadata": {},
   "outputs": [],
   "source": []
  }
 ],
 "metadata": {
  "kernelspec": {
   "display_name": "Python 3 (ipykernel)",
   "language": "python",
   "name": "python3"
  },
  "language_info": {
   "codemirror_mode": {
    "name": "ipython",
    "version": 3
   },
   "file_extension": ".py",
   "mimetype": "text/x-python",
   "name": "python",
   "nbconvert_exporter": "python",
   "pygments_lexer": "ipython3",
   "version": "3.9.12"
  }
 },
 "nbformat": 4,
 "nbformat_minor": 5
}
